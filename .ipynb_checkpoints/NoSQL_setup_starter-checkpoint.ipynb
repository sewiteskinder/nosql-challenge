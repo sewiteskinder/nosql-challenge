{
 "cells": [
  {
   "cell_type": "markdown",
   "id": "0574f31d",
   "metadata": {},
   "source": [
    "# Eat Safe, Love"
   ]
  },
  {
   "cell_type": "markdown",
   "id": "9e7fb842",
   "metadata": {},
   "source": [
    "## Part 1: Database and Jupyter Notebook Set Up"
   ]
  },
  {
   "cell_type": "markdown",
   "id": "6d57cd2c",
   "metadata": {},
   "source": [
    "Import the data provided in the `establishments.json` file from your Terminal. Name the database `uk_food` and the collection `establishments`.\n",
    "\n",
    "Within this markdown cell, copy the line of text you used to import the data from your Terminal. This way, future analysts will be able to repeat your process.\n",
    "\n",
    "e.g.: Import the dataset with mongoimport --type json -d uk_food -c establishments --drop --jsonArray establishments.json"
   ]
  },
  {
   "cell_type": "code",
   "execution_count": 1,
   "id": "fca6626a",
   "metadata": {},
   "outputs": [],
   "source": [
    "# Import dependencies\n",
    "from pymongo import MongoClient\n",
    "from pprint import pprint"
   ]
  },
  {
   "cell_type": "code",
   "execution_count": 2,
   "id": "eb398e30",
   "metadata": {},
   "outputs": [],
   "source": [
    "# Create an instance of MongoClient\n",
    "mongo = MongoClient (port=27017)"
   ]
  },
  {
   "cell_type": "code",
   "execution_count": 4,
   "id": "ed20051e",
   "metadata": {},
   "outputs": [
    {
     "name": "stdout",
     "output_type": "stream",
     "text": [
      "['admin', 'autosaurus', 'classDB', 'config', 'epa', 'fruits', 'local', 'met', 'petsitly_marketing', 'uk_food']\n"
     ]
    }
   ],
   "source": [
    "# confirm that our new database was created\n",
    "print(mongo.list_database_names())"
   ]
  },
  {
   "cell_type": "code",
   "execution_count": 6,
   "id": "a070e965",
   "metadata": {},
   "outputs": [],
   "source": [
    "# assign the uk_food database to a variable name\n",
    "db = mongo['uk_food']"
   ]
  },
  {
   "cell_type": "code",
   "execution_count": 9,
   "id": "15170e7e",
   "metadata": {},
   "outputs": [
    {
     "name": "stdout",
     "output_type": "stream",
     "text": [
      "['establishments']\n"
     ]
    }
   ],
   "source": [
    "# review the collections in our new database\n",
    "print(db.list_collection_names())"
   ]
  },
  {
   "cell_type": "code",
   "execution_count": 13,
   "id": "4c2e7e4b",
   "metadata": {},
   "outputs": [
    {
     "name": "stdout",
     "output_type": "stream",
     "text": [
      "{'AddressLine1': 'The Bay',\n",
      " 'AddressLine2': 'St Margarets Bay',\n",
      " 'AddressLine3': 'Kent',\n",
      " 'AddressLine4': '',\n",
      " 'BusinessName': 'Refreshment Kiosk',\n",
      " 'BusinessType': 'Restaurant/Cafe/Canteen',\n",
      " 'BusinessTypeID': 1,\n",
      " 'ChangesByServerID': 0,\n",
      " 'Distance': 4587.347174863443,\n",
      " 'FHRSID': 254719,\n",
      " 'LocalAuthorityBusinessID': 'PI/000069980',\n",
      " 'LocalAuthorityCode': '182',\n",
      " 'LocalAuthorityEmailAddress': 'publicprotection@dover.gov.uk',\n",
      " 'LocalAuthorityName': 'Dover',\n",
      " 'LocalAuthorityWebSite': 'http://www.dover.gov.uk/',\n",
      " 'NewRatingPending': False,\n",
      " 'Phone': '',\n",
      " 'PostCode': 'CT15 6DY',\n",
      " 'RatingDate': '2022-03-24T00:00:00',\n",
      " 'RatingKey': 'fhrs_5_en-gb',\n",
      " 'RatingValue': '5',\n",
      " 'RightToReply': '',\n",
      " 'SchemeType': 'FHRS',\n",
      " '_id': ObjectId('64234102741b3a42bec8035b'),\n",
      " 'geocode': {'latitude': '51.152225', 'longitude': '1.387974'},\n",
      " 'links': [{'href': 'https://api.ratings.food.gov.uk/establishments/254719',\n",
      "            'rel': 'self'}],\n",
      " 'meta': {'dataSource': None,\n",
      "          'extractDate': '0001-01-01T00:00:00',\n",
      "          'itemCount': 0,\n",
      "          'pageNumber': 0,\n",
      "          'pageSize': 0,\n",
      "          'returncode': None,\n",
      "          'totalCount': 0,\n",
      "          'totalPages': 0},\n",
      " 'scores': {'ConfidenceInManagement': 5, 'Hygiene': 0, 'Structural': 5}}\n"
     ]
    }
   ],
   "source": [
    "# review a document in the establishments collection\n",
    "pprint(db.establishments.find_one())"
   ]
  },
  {
   "cell_type": "code",
   "execution_count": 14,
   "id": "5651acc5",
   "metadata": {},
   "outputs": [],
   "source": [
    "# assign the collection to a variable\n",
    "establishments = db['establishments']"
   ]
  },
  {
   "cell_type": "markdown",
   "id": "eafb34ab",
   "metadata": {},
   "source": [
    "## Part 2: Update the Database"
   ]
  },
  {
   "cell_type": "markdown",
   "id": "432fbcd5",
   "metadata": {},
   "source": [
    "1. An exciting new halal restaurant just opened in Greenwich, but hasn't been rated yet. The magazine has asked you to include it in your analysis. Add the following restaurant \"Penang Flavours\" to the database."
   ]
  },
  {
   "cell_type": "code",
   "execution_count": null,
   "id": "33df9ead",
   "metadata": {},
   "outputs": [],
   "source": [
    "# Create a dictionary for the new restaurant data\n"
   ]
  },
  {
   "cell_type": "code",
   "execution_count": null,
   "id": "aed300b0",
   "metadata": {},
   "outputs": [],
   "source": [
    "# Insert the new restaurant into the collection\n"
   ]
  },
  {
   "cell_type": "code",
   "execution_count": null,
   "id": "5ac6d44b",
   "metadata": {},
   "outputs": [],
   "source": [
    "# Check that the new restaurant was inserted\n"
   ]
  },
  {
   "cell_type": "markdown",
   "id": "66144316",
   "metadata": {},
   "source": [
    "2. Find the BusinessTypeID for \"Restaurant/Cafe/Canteen\" and return only the `BusinessTypeID` and `BusinessType` fields."
   ]
  },
  {
   "cell_type": "code",
   "execution_count": null,
   "id": "4168a893",
   "metadata": {},
   "outputs": [],
   "source": [
    "# Find the BusinessTypeID for \"Restaurant/Cafe/Canteen\" and return only the BusinessTypeID and BusinessType fields\n"
   ]
  },
  {
   "cell_type": "markdown",
   "id": "abf8ff51",
   "metadata": {},
   "source": [
    "3. Update the new restaurant with the `BusinessTypeID` you found."
   ]
  },
  {
   "cell_type": "code",
   "execution_count": null,
   "id": "8f9d8a09",
   "metadata": {},
   "outputs": [],
   "source": [
    "# Update the new restaurant with the correct BusinessTypeID\n"
   ]
  },
  {
   "cell_type": "code",
   "execution_count": null,
   "id": "de9c86e6",
   "metadata": {},
   "outputs": [],
   "source": [
    "# Confirm that the new restaurant was updated\n"
   ]
  },
  {
   "cell_type": "markdown",
   "id": "d7ef7db8",
   "metadata": {},
   "source": [
    "4. The magazine is not interested in any establishments in Dover, so check how many documents contain the Dover Local Authority. Then, remove any establishments within the Dover Local Authority from the database, and check the number of documents to ensure they were deleted."
   ]
  },
  {
   "cell_type": "code",
   "execution_count": null,
   "id": "9f713342",
   "metadata": {},
   "outputs": [],
   "source": [
    "# Find how many documents have LocalAuthorityName as \"Dover\"\n"
   ]
  },
  {
   "cell_type": "code",
   "execution_count": null,
   "id": "85597adf",
   "metadata": {},
   "outputs": [],
   "source": [
    "# Delete all documents where LocalAuthorityName is \"Dover\"\n"
   ]
  },
  {
   "cell_type": "code",
   "execution_count": null,
   "id": "7b22e80e",
   "metadata": {},
   "outputs": [],
   "source": [
    "# Check if any remaining documents include Dover\n"
   ]
  },
  {
   "cell_type": "code",
   "execution_count": null,
   "id": "503a72a3",
   "metadata": {},
   "outputs": [],
   "source": [
    "# Check that other documents remain with 'find_one'\n"
   ]
  },
  {
   "cell_type": "markdown",
   "id": "29870f92",
   "metadata": {},
   "source": [
    "5. Some of the number values are stored as strings, when they should be stored as numbers. Use `update_many` to convert `latitude` and `longitude` to decimal numbers."
   ]
  },
  {
   "cell_type": "code",
   "execution_count": null,
   "id": "c6690860",
   "metadata": {},
   "outputs": [],
   "source": [
    "# Change the data type from String to Decimal for longitude\n"
   ]
  },
  {
   "cell_type": "code",
   "execution_count": null,
   "id": "5a1e4178",
   "metadata": {},
   "outputs": [],
   "source": [
    "# Change the data type from String to Decimal for latitude\n"
   ]
  },
  {
   "cell_type": "code",
   "execution_count": null,
   "id": "242b5704",
   "metadata": {},
   "outputs": [],
   "source": [
    "# Check that the coordinates are now numbers\n"
   ]
  }
 ],
 "metadata": {
  "kernelspec": {
   "display_name": "PythonData",
   "language": "python",
   "name": "pythondata"
  },
  "language_info": {
   "codemirror_mode": {
    "name": "ipython",
    "version": 3
   },
   "file_extension": ".py",
   "mimetype": "text/x-python",
   "name": "python",
   "nbconvert_exporter": "python",
   "pygments_lexer": "ipython3",
   "version": "3.9.13"
  }
 },
 "nbformat": 4,
 "nbformat_minor": 5
}
